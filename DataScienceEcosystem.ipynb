{
 "cells": [
  {
   "cell_type": "markdown",
   "id": "6f448a95-7693-491b-925c-57209b4fcf40",
   "metadata": {},
   "source": [
    "# Data Science Tools and Ecosystem"
   ]
  },
  {
   "cell_type": "markdown",
   "id": "7d165700-0d28-4468-8b67-6f3aa105c12f",
   "metadata": {},
   "source": [
    "## Introduction\n",
    "#### In this notebook, Data Science Tools and Ecosystem are summarized. "
   ]
  },
  {
   "cell_type": "markdown",
   "id": "24baff1c-af95-4338-8957-b80e802ee29a",
   "metadata": {},
   "source": [
    "## **Objectives**\n",
    "* List of Popular Data Science Libries\n",
    "* List of Common Data Science Libaries\n",
    "* Table of Data Science Tools and and Development Environment Used for Data Science\n",
    "* Examples of Arithmetic Expressions in Python\n"
   ]
  },
  {
   "cell_type": "markdown",
   "id": "dd77ec42-dfe2-4d97-a5f1-fd5bc1e5614f",
   "metadata": {},
   "source": [
    "## Data Science Libraries\n",
    "#### some of the popular libraries used by Data scientist include:\n",
    "1. Python\n",
    "2. SQL\n",
    "3. R\n",
    "4. PHP\n",
    "5. Java\n",
    "\n"
   ]
  },
  {
   "cell_type": "markdown",
   "id": "6322da06-a283-4e56-b685-1caca0d278c4",
   "metadata": {},
   "source": [
    "#### some of the commonly used libraries by data scientist inculde:\n",
    "1. Pandas\n",
    "2. Numpy\n",
    "3. Matplotlib\n",
    "4. ggplot\n",
    "5. Seaborn"
   ]
  },
  {
   "cell_type": "markdown",
   "id": "89618522",
   "metadata": {},
   "source": [
    "## Table of Data Science Tools\n",
    "| Data Science Tools | \n",
    "|--------------------|\n",
    "| Jupyter Notebook   |\n",
    "|      R studio      |\n",
    "|     Apache spark   |"
   ]
  },
  {
   "cell_type": "markdown",
   "id": "23160d6c",
   "metadata": {},
   "source": [
    "### Below are a few examples of evaluating arithmetic expressions in Python.\n"
   ]
  },
  {
   "cell_type": "code",
   "execution_count": 1,
   "id": "ecbbb3db",
   "metadata": {
    "vscode": {
     "languageId": "plaintext"
    }
   },
   "outputs": [
    {
     "data": {
      "text/plain": [
       "17"
      ]
     },
     "execution_count": 1,
     "metadata": {},
     "output_type": "execute_result"
    }
   ],
   "source": [
    "(3*4)+5"
   ]
  },
  {
   "cell_type": "code",
   "execution_count": 5,
   "id": "2b54a626",
   "metadata": {
    "vscode": {
     "languageId": "plaintext"
    }
   },
   "outputs": [
    {
     "name": "stdout",
     "output_type": "stream",
     "text": [
      "3.3333333333333335\n"
     ]
    }
   ],
   "source": [
    "#This will convert 200 minutes to hours by diving by 60\n",
    "# x represents hours\n",
    "x= 200/60\n",
    "print(x)"
   ]
  },
  {
   "cell_type": "markdown",
   "id": "f55f0a83-92ff-404d-8331-504a2900f2a8",
   "metadata": {},
   "source": [
    "## **Author**\n",
    "Ekow Quayson"
   ]
  }
 ],
 "metadata": {
  "kernelspec": {
   "display_name": "Python 3 (ipykernel)",
   "language": "python",
   "name": "python3"
  },
  "language_info": {
   "codemirror_mode": {
    "name": "ipython",
    "version": 3
   },
   "file_extension": ".py",
   "mimetype": "text/x-python",
   "name": "python",
   "nbconvert_exporter": "python",
   "pygments_lexer": "ipython3",
   "version": "3.9.13"
  }
 },
 "nbformat": 4,
 "nbformat_minor": 5
}
